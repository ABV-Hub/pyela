{
 "cells": [
  {
   "cell_type": "markdown",
   "metadata": {},
   "source": [
    "# Experiments\n",
    "\n",
    "## Natural language processing\n",
    "\n",
    "While initial investigations on using NLP were made with NLTK, a quick wikipedia scan pointed to spaCy as an option that may be higher level. First impression is also that the documentation is slicker, and popular in so far as conting the guthub stars.\n",
    "\n",
    "resources (see also browser bookmarks)\n",
    "* [Natural Language Processing and Computational Linguistics](http://pqtech.safaribooksonline.com/book/programming/machine-learning/9781788838535)\n",
    "* [spaCy](https://spacy.io)\n"
   ]
  },
  {
   "cell_type": "code",
   "execution_count": null,
   "metadata": {},
   "outputs": [],
   "source": [
    "import spacy"
   ]
  },
  {
   "cell_type": "code",
   "execution_count": null,
   "metadata": {},
   "outputs": [],
   "source": [
    "nlp = spacy.load('en_core_web_sm')"
   ]
  },
  {
   "cell_type": "markdown",
   "metadata": {},
   "source": [
    "```\n",
    "nd and dark clay.', u'clay orange, some granite',\n",
    "       u'clay and sand bars - some very hard granitic bands',\n",
    "       u'coffee rock', u'black clay.', u'grey, yellow and brown clay',\n",
    "       u'ironstone with clay', u'clay, green.  total depth 179ft',\n",
    "       u'sand - cream to orange, fine to coarse, subangular to rounded, poorly sorted, loose, clear, light grey and iron stained quartz grains, rare pink with purple quartz grains, 5-10% shell fragments increasing % and fragments size with depth, trace dark green black lithic fragments.',\n",
    "       u'light grey with 1.5mm white sands', u'yellowicream sandy clay',\n",
    "       u'leederville formation.', u'grey clay and granitic band',\n",
    "       u'sand, calcitareous, buff, mg.',\n",
    "       u'sand, granular to small pebbles mainly well sorted',\n",
    "       u'grey with black clays of granite bands',\n",
    "       u'shell bed - medium sand', u'shale.',\n",
    "       u'dark brown bands of coarse sand', u'yellow sand',\n",
    "       u'dark grey fine grained silty to clayey sand with organics to fine',\n",
    "       u'shale, sandstone and siltstone interbedded',\n",
    "       u'clay, blue with black', u'sub soil', u'sand', u'white clay',\n",
    "       u'loam.  munsell colour 2.5yr 4with3 reddish brown.', u'capstone',\n",
    "       u'crumbly limestone',\n",
    "       u'sandstone, grey greenish, medium to very coarse grained, moderately to well sorted.',\n",
    "       u'sand, minor clay dark brown iron cementation', u'red clay.',\n",
    "       u'sand.  clay at 12m', u'hard limestone', u'grey clay and shell.',\n",
    "       u'clay, gravelly, very slightly silty, grey-brown',\n",
    "       u'yellow to white fine sand', u'gravel & coarse orange sands',\n",
    "       u'white sand, coarse', u'light brown clay.',\n",
    "       u'fine grained sandy clay.', u'granite boulder',\n",
    "       u'black sticky clay', u'white sands', u'not logged',\n",
    "       u'clay.                        (log - quaternary))',\n",
    "       u'black shale, small sand stringers interbedded between layers.'], \n",
    "      dtype='<U473')\n",
    "  ```"
   ]
  },
  {
   "cell_type": "code",
   "execution_count": null,
   "metadata": {},
   "outputs": [],
   "source": [
    "doc = nlp(u'this contains dark grey, fine grained silty to clayey sand with organics to fine')"
   ]
  },
  {
   "cell_type": "code",
   "execution_count": null,
   "metadata": {},
   "outputs": [],
   "source": [
    "for t in doc:\n",
    "    print(t.text, t.pos_, t.dep_)\n",
    "    "
   ]
  },
  {
   "cell_type": "code",
   "execution_count": null,
   "metadata": {},
   "outputs": [],
   "source": [
    "for t in doc.ents:\n",
    "    print(t.text, t.start_char, t.end_char, t.label_)"
   ]
  },
  {
   "cell_type": "code",
   "execution_count": null,
   "metadata": {},
   "outputs": [],
   "source": [
    "doc.ents"
   ]
  },
  {
   "cell_type": "code",
   "execution_count": null,
   "metadata": {},
   "outputs": [],
   "source": [
    "doc = nlp(u'sand - cream to orange, fine to coarse, subangular to rounded, poorly sorted, loose, clear, light grey and iron stained quartz grains, rare pink with purple quartz grains, 5-10% shell fragments increasing % and fragments size with depth')"
   ]
  },
  {
   "cell_type": "code",
   "execution_count": null,
   "metadata": {},
   "outputs": [],
   "source": [
    "for t in doc.ents:\n",
    "    print(t.text, t.start_char, t.end_char, t.label_)"
   ]
  },
  {
   "cell_type": "code",
   "execution_count": null,
   "metadata": {},
   "outputs": [],
   "source": [
    "len(doc.ents[0].vector)"
   ]
  },
  {
   "cell_type": "code",
   "execution_count": null,
   "metadata": {},
   "outputs": [],
   "source": [
    "doc = nlp(u'Understanding structure in conversations and extracting information were key problems in early NLP, and the fruits of the research done are being very apparent in the 21st century')"
   ]
  },
  {
   "cell_type": "code",
   "execution_count": null,
   "metadata": {},
   "outputs": [],
   "source": [
    "for t in doc:\n",
    "    print(t.text, t.pos_, t.dep_)"
   ]
  },
  {
   "cell_type": "code",
   "execution_count": null,
   "metadata": {},
   "outputs": [],
   "source": [
    "for t in doc.ents:\n",
    "    print(t.text, t.start_char, t.end_char, t.label_)"
   ]
  },
  {
   "cell_type": "code",
   "execution_count": null,
   "metadata": {},
   "outputs": [],
   "source": []
  }
 ],
 "metadata": {
  "kernelspec": {
   "display_name": "Python3 (ELA)",
   "language": "python",
   "name": "ela3"
  },
  "language_info": {
   "codemirror_mode": {
    "name": "ipython",
    "version": 3
   },
   "file_extension": ".py",
   "mimetype": "text/x-python",
   "name": "python",
   "nbconvert_exporter": "python",
   "pygments_lexer": "ipython3",
   "version": "3.6.6"
  }
 },
 "nbformat": 4,
 "nbformat_minor": 2
}
